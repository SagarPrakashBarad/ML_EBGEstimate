{
 "cells": [
  {
   "cell_type": "code",
   "execution_count": 1,
   "metadata": {
    "id": "rRKCs6ZCdrdG"
   },
   "outputs": [],
   "source": [
    "import matplotlib.pyplot as plt\n",
    "import numpy as np\n",
    "import pandas as pd\n",
    "import seaborn as sns\n",
    "from sklearn.model_selection import train_test_split \n",
    "from sklearn.metrics import accuracy_score\n",
    "from sklearn.metrics import confusion_matrix\n",
    "from sklearn.metrics import roc_curve\n",
    "from sklearn.metrics import roc_auc_score\n",
    "from sklearn.ensemble import RandomForestClassifier\n",
    "from sklearn.linear_model import LogisticRegression\n",
    "from sklearn.tree import DecisionTreeClassifier\n",
    "from sklearn.svm import SVC"
   ]
  },
  {
   "cell_type": "code",
   "execution_count": 2,
   "metadata": {
    "id": "OpTGq-VAeSuz"
   },
   "outputs": [
    {
     "data": {
      "text/html": [
       "<div>\n",
       "<style scoped>\n",
       "    .dataframe tbody tr th:only-of-type {\n",
       "        vertical-align: middle;\n",
       "    }\n",
       "\n",
       "    .dataframe tbody tr th {\n",
       "        vertical-align: top;\n",
       "    }\n",
       "\n",
       "    .dataframe thead th {\n",
       "        text-align: right;\n",
       "    }\n",
       "</style>\n",
       "<table border=\"1\" class=\"dataframe\">\n",
       "  <thead>\n",
       "    <tr style=\"text-align: right;\">\n",
       "      <th></th>\n",
       "      <th>dosef</th>\n",
       "      <th>energy</th>\n",
       "      <th>natom</th>\n",
       "      <th>mass</th>\n",
       "      <th>fmax</th>\n",
       "      <th>smax</th>\n",
       "      <th>hform</th>\n",
       "      <th>volume</th>\n",
       "      <th>gap</th>\n",
       "    </tr>\n",
       "  </thead>\n",
       "  <tbody>\n",
       "    <tr>\n",
       "      <th>0</th>\n",
       "      <td>0.000000</td>\n",
       "      <td>-34.420158</td>\n",
       "      <td>8</td>\n",
       "      <td>847.104000</td>\n",
       "      <td>0.000441</td>\n",
       "      <td>0.000025</td>\n",
       "      <td>-0.242520</td>\n",
       "      <td>554.583570</td>\n",
       "      <td>0.198787</td>\n",
       "    </tr>\n",
       "    <tr>\n",
       "      <th>1</th>\n",
       "      <td>0.598768</td>\n",
       "      <td>-51.326923</td>\n",
       "      <td>7</td>\n",
       "      <td>228.473000</td>\n",
       "      <td>0.006010</td>\n",
       "      <td>0.000092</td>\n",
       "      <td>-1.486560</td>\n",
       "      <td>210.204206</td>\n",
       "      <td>0.000000</td>\n",
       "    </tr>\n",
       "    <tr>\n",
       "      <th>2</th>\n",
       "      <td>4.600808</td>\n",
       "      <td>-16.355219</td>\n",
       "      <td>6</td>\n",
       "      <td>439.664400</td>\n",
       "      <td>0.003162</td>\n",
       "      <td>0.000085</td>\n",
       "      <td>0.108463</td>\n",
       "      <td>399.866678</td>\n",
       "      <td>0.000000</td>\n",
       "    </tr>\n",
       "    <tr>\n",
       "      <th>3</th>\n",
       "      <td>0.000000</td>\n",
       "      <td>-8.558619</td>\n",
       "      <td>3</td>\n",
       "      <td>461.008940</td>\n",
       "      <td>0.008155</td>\n",
       "      <td>0.000085</td>\n",
       "      <td>-0.614540</td>\n",
       "      <td>334.657508</td>\n",
       "      <td>1.577069</td>\n",
       "    </tr>\n",
       "    <tr>\n",
       "      <th>4</th>\n",
       "      <td>3.637586</td>\n",
       "      <td>-28.363150</td>\n",
       "      <td>4</td>\n",
       "      <td>149.864388</td>\n",
       "      <td>0.002523</td>\n",
       "      <td>0.000387</td>\n",
       "      <td>-0.414287</td>\n",
       "      <td>252.368393</td>\n",
       "      <td>0.000000</td>\n",
       "    </tr>\n",
       "    <tr>\n",
       "      <th>...</th>\n",
       "      <td>...</td>\n",
       "      <td>...</td>\n",
       "      <td>...</td>\n",
       "      <td>...</td>\n",
       "      <td>...</td>\n",
       "      <td>...</td>\n",
       "      <td>...</td>\n",
       "      <td>...</td>\n",
       "      <td>...</td>\n",
       "    </tr>\n",
       "    <tr>\n",
       "      <th>3124</th>\n",
       "      <td>1.323916</td>\n",
       "      <td>-15.026721</td>\n",
       "      <td>4</td>\n",
       "      <td>468.040000</td>\n",
       "      <td>0.004763</td>\n",
       "      <td>0.000051</td>\n",
       "      <td>-0.244180</td>\n",
       "      <td>285.195232</td>\n",
       "      <td>0.000000</td>\n",
       "    </tr>\n",
       "    <tr>\n",
       "      <th>3125</th>\n",
       "      <td>0.000000</td>\n",
       "      <td>-7.553420</td>\n",
       "      <td>3</td>\n",
       "      <td>136.280000</td>\n",
       "      <td>0.000792</td>\n",
       "      <td>0.000098</td>\n",
       "      <td>-0.933140</td>\n",
       "      <td>189.425118</td>\n",
       "      <td>3.433530</td>\n",
       "    </tr>\n",
       "    <tr>\n",
       "      <th>3126</th>\n",
       "      <td>1.648949</td>\n",
       "      <td>-13.393534</td>\n",
       "      <td>4</td>\n",
       "      <td>382.292000</td>\n",
       "      <td>0.001311</td>\n",
       "      <td>0.000495</td>\n",
       "      <td>0.092117</td>\n",
       "      <td>299.403874</td>\n",
       "      <td>0.000000</td>\n",
       "    </tr>\n",
       "    <tr>\n",
       "      <th>3127</th>\n",
       "      <td>0.868643</td>\n",
       "      <td>-18.481966</td>\n",
       "      <td>3</td>\n",
       "      <td>129.220806</td>\n",
       "      <td>0.005338</td>\n",
       "      <td>0.002498</td>\n",
       "      <td>-2.634989</td>\n",
       "      <td>155.753470</td>\n",
       "      <td>0.000000</td>\n",
       "    </tr>\n",
       "    <tr>\n",
       "      <th>3128</th>\n",
       "      <td>3.824895</td>\n",
       "      <td>-39.124493</td>\n",
       "      <td>8</td>\n",
       "      <td>574.595760</td>\n",
       "      <td>0.006687</td>\n",
       "      <td>0.000204</td>\n",
       "      <td>-1.097812</td>\n",
       "      <td>523.871500</td>\n",
       "      <td>0.000000</td>\n",
       "    </tr>\n",
       "  </tbody>\n",
       "</table>\n",
       "<p>3129 rows × 9 columns</p>\n",
       "</div>"
      ],
      "text/plain": [
       "         dosef     energy  natom        mass      fmax      smax     hform  \\\n",
       "0     0.000000 -34.420158      8  847.104000  0.000441  0.000025 -0.242520   \n",
       "1     0.598768 -51.326923      7  228.473000  0.006010  0.000092 -1.486560   \n",
       "2     4.600808 -16.355219      6  439.664400  0.003162  0.000085  0.108463   \n",
       "3     0.000000  -8.558619      3  461.008940  0.008155  0.000085 -0.614540   \n",
       "4     3.637586 -28.363150      4  149.864388  0.002523  0.000387 -0.414287   \n",
       "...        ...        ...    ...         ...       ...       ...       ...   \n",
       "3124  1.323916 -15.026721      4  468.040000  0.004763  0.000051 -0.244180   \n",
       "3125  0.000000  -7.553420      3  136.280000  0.000792  0.000098 -0.933140   \n",
       "3126  1.648949 -13.393534      4  382.292000  0.001311  0.000495  0.092117   \n",
       "3127  0.868643 -18.481966      3  129.220806  0.005338  0.002498 -2.634989   \n",
       "3128  3.824895 -39.124493      8  574.595760  0.006687  0.000204 -1.097812   \n",
       "\n",
       "          volume       gap  \n",
       "0     554.583570  0.198787  \n",
       "1     210.204206  0.000000  \n",
       "2     399.866678  0.000000  \n",
       "3     334.657508  1.577069  \n",
       "4     252.368393  0.000000  \n",
       "...          ...       ...  \n",
       "3124  285.195232  0.000000  \n",
       "3125  189.425118  3.433530  \n",
       "3126  299.403874  0.000000  \n",
       "3127  155.753470  0.000000  \n",
       "3128  523.871500  0.000000  \n",
       "\n",
       "[3129 rows x 9 columns]"
      ]
     },
     "execution_count": 2,
     "metadata": {},
     "output_type": "execute_result"
    }
   ],
   "source": [
    "data=pd.read_csv('../../_data/8_features_c2db.csv')\n",
    "data"
   ]
  },
  {
   "cell_type": "code",
   "execution_count": 3,
   "metadata": {
    "id": "8Lfh2uvKeVDB"
   },
   "outputs": [],
   "source": [
    "# Labelling \n",
    "\n",
    "data['is_metal'] = 0\n",
    "\n",
    "data.loc[data['gap'] > 0, 'is_metal'] = 0 # non-metal\n",
    "data.loc[data['gap'] <= 0, 'is_metal'] = 1 # metal"
   ]
  },
  {
   "cell_type": "code",
   "execution_count": 4,
   "metadata": {
    "id": "oGCbDHk7etwr"
   },
   "outputs": [],
   "source": [
    "df = data.values\n",
    "df = np.array(df)"
   ]
  },
  {
   "cell_type": "code",
   "execution_count": 5,
   "metadata": {
    "id": "iwR_oomufdua"
   },
   "outputs": [],
   "source": [
    "data_train, data_test = train_test_split(data, test_size=0.2, random_state=0)\n",
    "\n",
    "x_train = np.array(data_train)\n",
    "x_test = np.array(data_test)\n",
    "\n",
    "NegativeCount = 0\n",
    "PositiveCount = 0\n",
    "for i in range(len(x_train)):\n",
    "    if x_train[i][9]==0 :\n",
    "        NegativeCount=NegativeCount+1\n",
    "    if x_train[i][9]==1:\n",
    "        PositiveCount=PositiveCount+1\n",
    "\n",
    "positives = np.zeros((PositiveCount,10))\n",
    "negatives = np.zeros((NegativeCount,10))\n",
    "    \n",
    "j, k = 0, 0\n",
    "    \n",
    "for i in range(len(x_train)):\n",
    "\n",
    "    if(x_train[i,9] == 1):\n",
    "        positives[j,:] = x_train[i,:]\n",
    "        j=j+1\n",
    "    if(x_train[i,9] == 0):\n",
    "        negatives[k,:] = x_train[i,:]\n",
    "        k=k+1\n",
    "\n",
    "# Labels.\n",
    "\n",
    "y_train = np.zeros(len(x_train))\n",
    "y_test = np.zeros(len(x_test))\n",
    "\n",
    "for i in range(len(x_test)):\n",
    "    y_test[i] = x_test[i][9]\n",
    "    x_test[i][9] = 1\n",
    "\n",
    "for i in range(len(x_train)):\n",
    "    y_train[i] = x_train[i][9]\n",
    "    x_train[i][9] = 1\n",
    "\n",
    "# Dropping 'gap' and 'is_metal'.\n",
    "\n",
    "x_train = np.delete(x_train, 9, 1)\n",
    "x_test = np.delete(x_test, 9, 1)\n",
    "\n",
    "x_train = np.delete(x_train, 8, 1)\n",
    "x_test = np.delete(x_test, 8, 1)"
   ]
  },
  {
   "cell_type": "code",
   "execution_count": 6,
   "metadata": {
    "id": "XFtJxd0whdO7"
   },
   "outputs": [],
   "source": [
    "lr = LogisticRegression(max_iter = 999999999)\n",
    "lr.fit(x_train, y_train)\n",
    "lr_test_predict = lr.predict(x_test)\n",
    "conf_mat = confusion_matrix(y_test, lr_test_predict)\n",
    "accuracy = 100*accuracy_score(y_test, lr_test_predict)"
   ]
  },
  {
   "cell_type": "code",
   "execution_count": 7,
   "metadata": {
    "colab": {
     "base_uri": "https://localhost:8080/",
     "height": 310
    },
    "id": "59we-joekhUI",
    "outputId": "731bed51-a285-4993-f9d9-03b8e9fe7b30"
   },
   "outputs": [
    {
     "data": {
      "image/png": "[encoded data removed]",
      "text/plain": [
       "<Figure size 432x288 with 2 Axes>"
      ]
     },
     "metadata": {
      "needs_background": "light"
     },
     "output_type": "display_data"
    }
   ],
   "source": [
    "sns.heatmap(conf_mat, annot=True, cmap='Blues', fmt='g')\n",
    "\n",
    "plt.xlabel('Predicted Label')\n",
    "plt.ylabel('True Label')\n",
    "plt.title('Logistic Regression\\n' + \"{:.2f}\".format(accuracy) + '%')\n",
    "plt.savefig('../../plots/c2db_plots/logistic_classifier.pdf')\n",
    "\n",
    "TN, FP, FN, TP = conf_mat.ravel()"
   ]
  },
  {
   "cell_type": "code",
   "execution_count": 8,
   "metadata": {
    "id": "rwEF_erIlEFC"
   },
   "outputs": [],
   "source": [
    "dtc = DecisionTreeClassifier()\n",
    "dtc.fit(x_train, y_train)\n",
    "dtc_test_predict = dtc.predict(x_test)\n",
    "conf_mat = confusion_matrix(y_test, dtc_test_predict)\n",
    "accuracy = 100*accuracy_score(y_test, dtc_test_predict)"
   ]
  },
  {
   "cell_type": "code",
   "execution_count": 9,
   "metadata": {
    "colab": {
     "base_uri": "https://localhost:8080/",
     "height": 310
    },
    "id": "BNJKTB3vt5VQ",
    "outputId": "851f5046-213d-406e-b24e-9da2cb1168dc"
   },
   "outputs": [
    {
     "data": {
      "image/png": "[encoded data removed]",
      "text/plain": [
       "<Figure size 432x288 with 2 Axes>"
      ]
     },
     "metadata": {
      "needs_background": "light"
     },
     "output_type": "display_data"
    }
   ],
   "source": [
    "sns.heatmap(conf_mat, annot=True, cmap='Blues', fmt='g')\n",
    "\n",
    "plt.xlabel('Predicted Label')\n",
    "plt.ylabel('True Label')\n",
    "plt.title('Decision Tree Classifier\\n' + \"{:.2f}\".format(accuracy) + '%')\n",
    "plt.savefig('../../plots/c2db_plots/decision_tree_classifier.pdf')\n",
    "\n",
    "TN, FP, FN, TP = conf_mat.ravel()"
   ]
  },
  {
   "cell_type": "code",
   "execution_count": 10,
   "metadata": {
    "id": "T9OTlu0xuBrI"
   },
   "outputs": [],
   "source": [
    "rfc = RandomForestClassifier()\n",
    "rfc.fit(x_train, y_train)\n",
    "rfc_test_predict = rfc.predict(x_test)\n",
    "conf_mat = confusion_matrix(y_test, rfc_test_predict)\n",
    "accuracy = 100*accuracy_score(y_test, rfc_test_predict)"
   ]
  },
  {
   "cell_type": "code",
   "execution_count": 11,
   "metadata": {
    "colab": {
     "base_uri": "https://localhost:8080/",
     "height": 310
    },
    "id": "16uaSzrTuZ6S",
    "outputId": "a54b1596-c23e-419d-f859-0d377670a8d6"
   },
   "outputs": [
    {
     "data": {
      "image/png": "[encoded data removed]",
      "text/plain": [
       "<Figure size 432x288 with 2 Axes>"
      ]
     },
     "metadata": {
      "needs_background": "light"
     },
     "output_type": "display_data"
    }
   ],
   "source": [
    "sns.heatmap(conf_mat, annot=True, cmap='Blues', fmt='g')\n",
    "\n",
    "plt.xlabel('Predicted Label')\n",
    "plt.ylabel('True Label')\n",
    "plt.title('Random Forest Classifier\\n' + \"{:.2f}\".format(accuracy) + '%')\n",
    "plt.savefig('../../plots/c2db_plots/random_forest_classifier.pdf')\n",
    "\n",
    "TN, FP, FN, TP = conf_mat.ravel()"
   ]
  },
  {
   "cell_type": "code",
   "execution_count": 12,
   "metadata": {
    "id": "BtkRar0zukpY"
   },
   "outputs": [],
   "source": [
    "svc = SVC(probability = True)\n",
    "svc.fit(x_train, y_train)\n",
    "svc_test_predict = svc.predict(x_test)\n",
    "conf_mat = confusion_matrix(y_test, svc_test_predict)\n",
    "accuracy = 100*accuracy_score(y_test, svc_test_predict)"
   ]
  },
  {
   "cell_type": "code",
   "execution_count": 13,
   "metadata": {
    "colab": {
     "base_uri": "https://localhost:8080/",
     "height": 310
    },
    "id": "XVIsnn7OvJY9",
    "outputId": "79817db7-51a9-44b6-d546-a3373feb04e5"
   },
   "outputs": [
    {
     "data": {
      "image/png": "[encoded data removed]",
      "text/plain": [
       "<Figure size 432x288 with 2 Axes>"
      ]
     },
     "metadata": {
      "needs_background": "light"
     },
     "output_type": "display_data"
    }
   ],
   "source": [
    "sns.heatmap(conf_mat, annot=True, cmap='Blues', fmt='g')\n",
    "\n",
    "plt.xlabel('Predicted Label')\n",
    "plt.ylabel('True Label')\n",
    "plt.title('Support Vector Classifier\\n' + \"{:.2f}\".format(accuracy) + '%')\n",
    "plt.savefig('../../plots/c2db_plots/svc_classifier.pdf')\n",
    "\n",
    "TN, FP, FN, TP = conf_mat.ravel()"
   ]
  }
 ],
 "metadata": {
  "colab": {
   "provenance": []
  },
  "kernelspec": {
   "display_name": "Python 3",
   "language": "python",
   "name": "python3"
  },
  "language_info": {
   "codemirror_mode": {
    "name": "ipython",
    "version": 3
   },
   "file_extension": ".py",
   "mimetype": "text/x-python",
   "name": "python",
   "nbconvert_exporter": "python",
   "pygments_lexer": "ipython3",
   "version": "3.8.8"
  }
 },
 "nbformat": 4,
 "nbformat_minor": 1
}
