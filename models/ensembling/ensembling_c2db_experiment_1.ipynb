{
 "cells": [
  {
   "cell_type": "code",
   "execution_count": 1,
   "metadata": {
    "id": "jg_JYghqxYUJ"
   },
   "outputs": [],
   "source": [
    "import pandas as pd\n",
    "import matplotlib.pyplot as plt\n",
    "import numpy as np\n",
    "from sklearn.model_selection import GridSearchCV\n",
    "from sklearn.svm import SVR\n",
    "from sklearn.ensemble import RandomForestRegressor\n",
    "from sklearn.ensemble import GradientBoostingRegressor\n",
    "from sklearn.model_selection import train_test_split\n",
    "from sklearn.metrics import mean_squared_error\n",
    "from sklearn.metrics import mean_absolute_error\n",
    "from sklearn.metrics import r2_score\n",
    "from sklearn import ensemble\n",
    "from sklearn.ensemble import VotingRegressor\n",
    "from sklearn.ensemble import StackingRegressor"
   ]
  },
  {
   "cell_type": "code",
   "execution_count": 2,
   "metadata": {
    "id": "7wtFednD2g1K"
   },
   "outputs": [],
   "source": [
    "data=pd.read_csv('../_data/8_features_c2db.csv')"
   ]
  },
  {
   "cell_type": "code",
   "execution_count": 3,
   "metadata": {
    "id": "z9g7a5K-2nUD"
   },
   "outputs": [],
   "source": [
    "df=data.values\n",
    "df=np.array(df)\n",
    "\n",
    "for i in range(8):\n",
    "  df[:,i]=(df[:,i]-df[:,i].min())/(df[:,i].max()- df[:,i].min())\n",
    "  \n",
    "data_train, data_test = train_test_split(df, test_size=0.1, random_state=0)\n",
    "x_train=data_train[:,:8]\n",
    "x_test=data_test[:,:8]\n",
    "y_train=data_train[:,8]\n",
    "y_test=data_test[:,8]"
   ]
  },
  {
   "cell_type": "code",
   "execution_count": 4,
   "metadata": {
    "id": "sgxYkWpr5Hwu"
   },
   "outputs": [],
   "source": [
    "params = {'n_estimators':21000, 'max_depth': 21, 'min_samples_split': 5,\n",
    "          'max_features':0.8, 'learning_rate': 0.001, 'loss': 'squared_error',\n",
    "          'random_state':0, 'subsample': 0.85}"
   ]
  },
  {
   "cell_type": "code",
   "execution_count": null,
   "metadata": {
    "id": "VmS7L5nr5oFA"
   },
   "outputs": [],
   "source": [
    "kernel = 'rbf'\n",
    "C = [50]\n",
    "gamma = [50] \n",
    "epsilon = [0.2]\n",
    "\n",
    "params_dict = {\n",
    "    'C': C,\n",
    "    'gamma': gamma, \n",
    "    'epsilon': epsilon\n",
    "}\n",
    "\n",
    "svr = SVR()\n",
    "\n",
    "gsCV = GridSearchCV(\n",
    "    estimator=svr, \n",
    "    param_grid=params_dict, \n",
    "    n_jobs=2,\n",
    "    scoring='r2',\n",
    "    cv=6 \n",
    ")\n",
    "\n",
    "gsCV.fit(x_train, y_train)"
   ]
  },
  {
   "cell_type": "code",
   "execution_count": 8,
   "metadata": {
    "id": "03USaHwJ4O6p"
   },
   "outputs": [],
   "source": [
    "estimators = [('svr', SVR(C=gsCV.best_params_['C'], kernel=kernel, \n",
    "                          gamma=gsCV.best_params_['gamma'],\n",
    "                          epsilon=gsCV.best_params_['epsilon'])),\n",
    "              ('rfr', RandomForestRegressor(criterion = 'squared_error', \n",
    "                                              bootstrap=False, max_features=0.8, \n",
    "                                              max_depth=20, min_samples_split=5, \n",
    "                                              n_estimators=15000, min_samples_leaf=3, \n",
    "                                              random_state=0)),\n",
    "              ('gbr', ensemble.GradientBoostingRegressor(**params))]"
   ]
  },
  {
   "cell_type": "code",
   "execution_count": 11,
   "metadata": {
    "id": "qyr8q5ir58za"
   },
   "outputs": [],
   "source": [
    "final_estimator = RandomForestRegressor(n_estimators=100, max_leaf_nodes=3, random_state=36)\n",
    "\n",
    "reg = StackingRegressor(\n",
    "    estimators=estimators,\n",
    "    final_estimator=final_estimator)"
   ]
  },
  {
   "cell_type": "code",
   "execution_count": 13,
   "metadata": {
    "id": "0pfOl5V16bQ5"
   },
   "outputs": [],
   "source": [
    "reg.fit(x_train, y_train)\n",
    "reg_train_pred = reg.predict(x_train)\n",
    "reg_test_pred = reg.predict(x_test)"
   ]
  },
  {
   "cell_type": "code",
   "execution_count": 14,
   "metadata": {
    "colab": {
     "base_uri": "https://localhost:8080/"
    },
    "id": "5YC9qPXB7VFy",
    "outputId": "7b29046f-149f-4710-cbda-ae533ec7378a"
   },
   "outputs": [
    {
     "name": "stdout",
     "output_type": "stream",
     "text": [
      "Model evaluation - Test Set:\n",
      "r^2: 0.780716575234559\n",
      "RSE 0.14526942600040327\n",
      "MAE 0.16246159180036912\n",
      "RMSE: 0.3811422647783938\n"
     ]
    }
   ],
   "source": [
    "print(\"Model evaluation - Test Set:\")\n",
    "print('r^2:',r2_score(y_test, reg_test_pred))\n",
    "print('RSE', mean_squared_error(y_test, reg_test_pred)) \n",
    "print('MAE', mean_absolute_error(y_test, reg_test_pred)) \n",
    "print('RMSE:',np.sqrt(mean_squared_error(y_test,reg_test_pred)))"
   ]
  },
  {
   "cell_type": "code",
   "execution_count": null,
   "metadata": {
    "id": "bxkF8MlUJ7S3"
   },
   "outputs": [],
   "source": []
  }
 ],
 "metadata": {
  "colab": {
   "provenance": []
  },
  "kernelspec": {
   "display_name": "Python 3",
   "language": "python",
   "name": "python3"
  },
  "language_info": {
   "codemirror_mode": {
    "name": "ipython",
    "version": 3
   },
   "file_extension": ".py",
   "mimetype": "text/x-python",
   "name": "python",
   "nbconvert_exporter": "python",
   "pygments_lexer": "ipython3",
   "version": "3.8.8"
  }
 },
 "nbformat": 4,
 "nbformat_minor": 1
}
