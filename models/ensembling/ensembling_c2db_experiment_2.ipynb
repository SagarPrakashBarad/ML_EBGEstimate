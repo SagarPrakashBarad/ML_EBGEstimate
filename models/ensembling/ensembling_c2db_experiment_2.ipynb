{
 "cells": [
  {
   "cell_type": "code",
   "execution_count": 1,
   "metadata": {
    "executionInfo": {
     "elapsed": 1721,
     "status": "ok",
     "timestamp": 1678445698439,
     "user": {
      "displayName": "Sajag Kumar",
      "userId": "10609143685700765474"
     },
     "user_tz": -330
    },
    "id": "2KsZzJusJZEv"
   },
   "outputs": [],
   "source": [
    "import pandas as pd\n",
    "import matplotlib.pyplot as plt\n",
    "import numpy as np\n",
    "from sklearn.model_selection import GridSearchCV\n",
    "from sklearn.svm import SVR\n",
    "from sklearn.ensemble import RandomForestRegressor\n",
    "from sklearn.ensemble import GradientBoostingRegressor\n",
    "from sklearn.model_selection import train_test_split\n",
    "from sklearn.metrics import mean_squared_error\n",
    "from sklearn.metrics import mean_absolute_error\n",
    "from sklearn.metrics import r2_score\n",
    "from sklearn import ensemble\n",
    "from sklearn.ensemble import VotingRegressor\n",
    "from sklearn.ensemble import StackingRegressor"
   ]
  },
  {
   "cell_type": "code",
   "execution_count": 3,
   "metadata": {
    "executionInfo": {
     "elapsed": 2136,
     "status": "ok",
     "timestamp": 1678445724354,
     "user": {
      "displayName": "Sajag Kumar",
      "userId": "10609143685700765474"
     },
     "user_tz": -330
    },
    "id": "cAQYiKO6KNDM"
   },
   "outputs": [],
   "source": [
    "data = pd.read_csv('../_data/8_features_c2db.csv')"
   ]
  },
  {
   "cell_type": "code",
   "execution_count": 4,
   "metadata": {
    "executionInfo": {
     "elapsed": 6,
     "status": "ok",
     "timestamp": 1678445734997,
     "user": {
      "displayName": "Sajag Kumar",
      "userId": "10609143685700765474"
     },
     "user_tz": -330
    },
    "id": "5HPgb4gGKOTq"
   },
   "outputs": [],
   "source": [
    "df=data.values\n",
    "df=np.array(df)\n",
    "\n",
    "for i in range(8):\n",
    "  df[:,i]=(df[:,i]-df[:,i].min())/(df[:,i].max()- df[:,i].min())\n",
    "  \n",
    "data_train, data_test = train_test_split(df, test_size=0.1, random_state=0)\n",
    "x_train=data_train[:,:8]\n",
    "x_test=data_test[:,:8]\n",
    "y_train=data_train[:,8]\n",
    "y_test=data_test[:,8]"
   ]
  },
  {
   "cell_type": "code",
   "execution_count": 5,
   "metadata": {
    "executionInfo": {
     "elapsed": 3,
     "status": "ok",
     "timestamp": 1678445753449,
     "user": {
      "displayName": "Sajag Kumar",
      "userId": "10609143685700765474"
     },
     "user_tz": -330
    },
    "id": "ajCC5q2QKWhd"
   },
   "outputs": [],
   "source": [
    "params = {'n_estimators':21000, 'max_depth': 21, 'min_samples_split': 5,\n",
    "          'max_features':0.8, 'learning_rate': 0.001, 'loss': 'squared_error',\n",
    "          'random_state':0, 'subsample': 0.85}"
   ]
  },
  {
   "cell_type": "code",
   "execution_count": 6,
   "metadata": {
    "executionInfo": {
     "elapsed": 455,
     "status": "ok",
     "timestamp": 1678445782849,
     "user": {
      "displayName": "Sajag Kumar",
      "userId": "10609143685700765474"
     },
     "user_tz": -330
    },
    "id": "WIsRgwJpKa7H"
   },
   "outputs": [],
   "source": [
    "estimators = [('rfr', RandomForestRegressor(criterion = 'squared_error', \n",
    "                                              bootstrap=False, max_features=0.8, \n",
    "                                              max_depth=20, min_samples_split=5, \n",
    "                                              n_estimators=15000, min_samples_leaf=3, \n",
    "                                              random_state=0)),\n",
    "              ('gbr', ensemble.GradientBoostingRegressor(**params))]"
   ]
  },
  {
   "cell_type": "code",
   "execution_count": 7,
   "metadata": {
    "executionInfo": {
     "elapsed": 3,
     "status": "ok",
     "timestamp": 1678445808884,
     "user": {
      "displayName": "Sajag Kumar",
      "userId": "10609143685700765474"
     },
     "user_tz": -330
    },
    "id": "nQ6WCn6DKiMH"
   },
   "outputs": [],
   "source": [
    "final_estimator = RandomForestRegressor(n_estimators=10, max_leaf_nodes=3, random_state=36)\n",
    "\n",
    "reg = StackingRegressor(\n",
    "    estimators=estimators,\n",
    "    final_estimator=final_estimator)"
   ]
  },
  {
   "cell_type": "code",
   "execution_count": 8,
   "metadata": {
    "executionInfo": {
     "elapsed": 4226150,
     "status": "ok",
     "timestamp": 1678450050352,
     "user": {
      "displayName": "Sajag Kumar",
      "userId": "10609143685700765474"
     },
     "user_tz": -330
    },
    "id": "IJQSfvGXKoPi"
   },
   "outputs": [],
   "source": [
    "reg.fit(x_train, y_train)\n",
    "reg_train_pred = reg.predict(x_train)\n",
    "reg_test_pred = reg.predict(x_test)"
   ]
  },
  {
   "cell_type": "code",
   "execution_count": 9,
   "metadata": {
    "colab": {
     "base_uri": "https://localhost:8080/"
    },
    "executionInfo": {
     "elapsed": 24,
     "status": "ok",
     "timestamp": 1678450050353,
     "user": {
      "displayName": "Sajag Kumar",
      "userId": "10609143685700765474"
     },
     "user_tz": -330
    },
    "id": "QSKmm30XKo8Q",
    "outputId": "c225f50b-3179-4b35-f549-0fe032368dae"
   },
   "outputs": [
    {
     "name": "stdout",
     "output_type": "stream",
     "text": [
      "Model evaluation - Test Set:\n",
      "r^2: 0.7660429477753727\n",
      "RSE 0.15499031320662898\n",
      "MAE 0.15685908377832433\n",
      "RMSE: 0.39368809126849263\n"
     ]
    }
   ],
   "source": [
    "print(\"Model evaluation - Test Set:\")\n",
    "print('r^2:',r2_score(y_test, reg_test_pred))\n",
    "print('RSE', mean_squared_error(y_test, reg_test_pred)) \n",
    "print('MAE', mean_absolute_error(y_test, reg_test_pred)) \n",
    "print('RMSE:',np.sqrt(mean_squared_error(y_test,reg_test_pred)))"
   ]
  },
  {
   "cell_type": "code",
   "execution_count": null,
   "metadata": {
    "id": "XWx6lQcBKsl7"
   },
   "outputs": [],
   "source": []
  }
 ],
 "metadata": {
  "colab": {
   "authorship_tag": "ABX9TyNgLcsvuNeVq1x8LC1JjrAY",
   "mount_file_id": "1mhrVQwSlDSXANgc-nVlwbuCm1-sYSp-F",
   "provenance": []
  },
  "kernelspec": {
   "display_name": "Python 3",
   "language": "python",
   "name": "python3"
  },
  "language_info": {
   "codemirror_mode": {
    "name": "ipython",
    "version": 3
   },
   "file_extension": ".py",
   "mimetype": "text/x-python",
   "name": "python",
   "nbconvert_exporter": "python",
   "pygments_lexer": "ipython3",
   "version": "3.8.8"
  }
 },
 "nbformat": 4,
 "nbformat_minor": 1
}
