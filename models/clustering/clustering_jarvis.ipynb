{
 "cells": [
  {
   "cell_type": "code",
   "execution_count": 2,
   "metadata": {
    "executionInfo": {
     "elapsed": 599,
     "status": "ok",
     "timestamp": 1678449185315,
     "user": {
      "displayName": "Sajag Kumar",
      "userId": "10609143685700765474"
     },
     "user_tz": -330
    },
    "id": "tcuD4zKENVRE"
   },
   "outputs": [],
   "source": [
    "import pandas as pd\n",
    "import numpy as np\n",
    "from sklearn.cluster import DBSCAN\n",
    "from sklearn import metrics\n",
    "import matplotlib.pyplot as plt\n",
    "from matplotlib import cm\n",
    "from mpl_toolkits.mplot3d import axes3d"
   ]
  },
  {
   "cell_type": "code",
   "execution_count": 14,
   "metadata": {
    "executionInfo": {
     "elapsed": 3,
     "status": "ok",
     "timestamp": 1678449185911,
     "user": {
      "displayName": "Sajag Kumar",
      "userId": "10609143685700765474"
     },
     "user_tz": -330
    },
    "id": "xDPp4j0PNvc-"
   },
   "outputs": [],
   "source": [
    "data = pd.read_csv('../_data/10_features_jarvis.csv')\n",
    "data = data.drop(['gap opt'], axis=1)\n",
    "data = data.drop(['uepa'], axis=1)\n",
    "data = data.drop(['e_form'], axis=1)\n",
    "data = data.drop(['band_gap'], axis = 1)"
   ]
  },
  {
   "cell_type": "code",
   "execution_count": 15,
   "metadata": {},
   "outputs": [],
   "source": [
    "df=data.values\n",
    "df=np.array(df)"
   ]
  },
  {
   "cell_type": "code",
   "execution_count": 16,
   "metadata": {
    "colab": {
     "base_uri": "https://localhost:8080/"
    },
    "executionInfo": {
     "elapsed": 4,
     "status": "ok",
     "timestamp": 1678450336692,
     "user": {
      "displayName": "Sajag Kumar",
      "userId": "10609143685700765474"
     },
     "user_tz": -330
    },
    "id": "0HZwH9IQNz04",
    "outputId": "3635765a-838a-4edd-a7db-833f18402f6e"
   },
   "outputs": [
    {
     "name": "stdout",
     "output_type": "stream",
     "text": [
      "Estimated number of clusters: 6\n",
      "Estimated number of noise points: 13\n"
     ]
    }
   ],
   "source": [
    "db = DBSCAN(eps=100, min_samples=3).fit(df)\n",
    "labels = db.labels_\n",
    "\n",
    "n_clusters_ = len(set(labels)) - (1 if -1 in labels else 0)\n",
    "n_noise_ = list(labels).count(-1)\n",
    "\n",
    "print(\"Estimated number of clusters: %d\" % n_clusters_)\n",
    "print(\"Estimated number of noise points: %d\" % n_noise_)"
   ]
  }
 ],
 "metadata": {
  "colab": {
   "authorship_tag": "ABX9TyNw141okGeRbBTYFFnD6VM2",
   "mount_file_id": "1lKJBQfYhA7vvF1EbiYqeLnHtwUG9q5Sv",
   "provenance": []
  },
  "kernelspec": {
   "display_name": "Python 3",
   "language": "python",
   "name": "python3"
  },
  "language_info": {
   "codemirror_mode": {
    "name": "ipython",
    "version": 3
   },
   "file_extension": ".py",
   "mimetype": "text/x-python",
   "name": "python",
   "nbconvert_exporter": "python",
   "pygments_lexer": "ipython3",
   "version": "3.8.8"
  }
 },
 "nbformat": 4,
 "nbformat_minor": 1
}
