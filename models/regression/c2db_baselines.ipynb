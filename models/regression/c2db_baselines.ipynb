{
 "cells": [
  {
   "cell_type": "code",
   "execution_count": 1,
   "metadata": {
    "executionInfo": {
     "elapsed": 805,
     "status": "ok",
     "timestamp": 1678440040455,
     "user": {
      "displayName": "Sajag Kumar",
      "userId": "10609143685700765474"
     },
     "user_tz": -330
    },
    "id": "_taju_qpzeuF"
   },
   "outputs": [],
   "source": [
    "from sklearn.ensemble import RandomForestRegressor\n",
    "from sklearn.ensemble import GradientBoostingRegressor\n",
    "import matplotlib.pyplot as plt\n",
    "from sklearn.model_selection import GridSearchCV\n",
    "from sklearn.svm import SVR\n",
    "from sklearn import ensemble\n",
    "import numpy as np\n",
    "import pandas as pd\n",
    "from sklearn.model_selection import train_test_split\n",
    "from sklearn.metrics import mean_squared_error\n",
    "from sklearn.metrics import mean_absolute_error\n",
    "from sklearn.metrics import r2_score"
   ]
  },
  {
   "cell_type": "code",
   "execution_count": 2,
   "metadata": {
    "executionInfo": {
     "elapsed": 4,
     "status": "ok",
     "timestamp": 1678440042714,
     "user": {
      "displayName": "Sajag Kumar",
      "userId": "10609143685700765474"
     },
     "user_tz": -330
    },
    "id": "WsXfJhY0zlB5"
   },
   "outputs": [],
   "source": [
    "data=pd.read_csv('../../_data/8_features_c2db.csv')"
   ]
  },
  {
   "cell_type": "code",
   "execution_count": 7,
   "metadata": {
    "executionInfo": {
     "elapsed": 399,
     "status": "ok",
     "timestamp": 1678440218066,
     "user": {
      "displayName": "Sajag Kumar",
      "userId": "10609143685700765474"
     },
     "user_tz": -330
    },
    "id": "eyNXInn_znQA"
   },
   "outputs": [],
   "source": [
    "df=data.values\n",
    "df=np.array(df)\n",
    "\n",
    "for i in range(8):\n",
    "  df[:,i]=(df[:,i]-df[:,i].min())/(df[:,i].max()- df[:,i].min())\n",
    "  \n",
    "data_train, data_test = train_test_split(df, test_size=0.1, random_state=0)\n",
    "x_train=data_train[:,:8]\n",
    "x_test=data_test[:,:8]\n",
    "y_train=data_train[:,8]\n",
    "y_test=data_test[:,8]"
   ]
  },
  {
   "cell_type": "code",
   "execution_count": 8,
   "metadata": {
    "executionInfo": {
     "elapsed": 310872,
     "status": "ok",
     "timestamp": 1678440541610,
     "user": {
      "displayName": "Sajag Kumar",
      "userId": "10609143685700765474"
     },
     "user_tz": -330
    },
    "id": "WHlrFoCm1Tay"
   },
   "outputs": [],
   "source": [
    "rf = RandomForestRegressor(criterion = 'squared_error', bootstrap=False, max_features=0.8, max_depth=20,\n",
    "                         min_samples_split=5, n_estimators=15000, min_samples_leaf=3, random_state=0) \n",
    "rf.fit(x_train, y_train)\n",
    "rf_train_pred=rf.predict(x_train)\n",
    "rf_test_pred=rf.predict(x_test)"
   ]
  },
  {
   "cell_type": "code",
   "execution_count": 9,
   "metadata": {
    "colab": {
     "base_uri": "https://localhost:8080/"
    },
    "executionInfo": {
     "elapsed": 13,
     "status": "ok",
     "timestamp": 1678440541611,
     "user": {
      "displayName": "Sajag Kumar",
      "userId": "10609143685700765474"
     },
     "user_tz": -330
    },
    "id": "dEPmt6ic1Wxe",
    "outputId": "d8255161-1cc7-4be2-96c3-f7f79822c4a0"
   },
   "outputs": [
    {
     "name": "stdout",
     "output_type": "stream",
     "text": [
      "Model evaluation - Test Set:\n",
      "r^2: 0.9001968969881061\n",
      "RSE 0.06611689644625561\n",
      "MAE 0.10156060422036761\n",
      "RMSE: 0.2571320603235925\n"
     ]
    }
   ],
   "source": [
    "print(\"Model evaluation - Test Set:\")\n",
    "print('r^2:',r2_score(y_test, rf_test_pred))\n",
    "print('RSE', mean_squared_error(y_test, rf_test_pred)) \n",
    "print('MAE', mean_absolute_error(y_test, rf_test_pred)) \n",
    "print('RMSE:',np.sqrt(mean_squared_error(y_test,rf_test_pred)))"
   ]
  },
  {
   "cell_type": "code",
   "execution_count": 10,
   "metadata": {
    "executionInfo": {
     "elapsed": 622880,
     "status": "ok",
     "timestamp": 1678441169213,
     "user": {
      "displayName": "Sajag Kumar",
      "userId": "10609143685700765474"
     },
     "user_tz": -330
    },
    "id": "V9hLgvA91XbK"
   },
   "outputs": [],
   "source": [
    "params = {'n_estimators':21000, 'max_depth': 21, 'min_samples_split': 5,\n",
    "          'max_features':0.8, 'learning_rate': 0.001, 'loss': 'squared_error',\n",
    "          'random_state':0, 'subsample': 0.85}\n",
    "\n",
    "gbr = ensemble.GradientBoostingRegressor(**params) \n",
    "gbr.fit(x_train, y_train)\n",
    "gbr_train_pred = gbr.predict(x_train)\n",
    "gbr_test_pred = gbr.predict(x_test)"
   ]
  },
  {
   "cell_type": "code",
   "execution_count": 11,
   "metadata": {
    "colab": {
     "base_uri": "https://localhost:8080/"
    },
    "executionInfo": {
     "elapsed": 17,
     "status": "ok",
     "timestamp": 1678441169215,
     "user": {
      "displayName": "Sajag Kumar",
      "userId": "10609143685700765474"
     },
     "user_tz": -330
    },
    "id": "CpZesq4u1vmh",
    "outputId": "57c50186-266f-4806-d589-3233dc3122b3"
   },
   "outputs": [
    {
     "name": "stdout",
     "output_type": "stream",
     "text": [
      "Model evaluation - Test Set:\n",
      "r^2: 0.9113951921677259\n",
      "RSE 0.058698324273431586\n",
      "MAE 0.0959922214107397\n",
      "RMSE: 0.24227737053516077\n"
     ]
    }
   ],
   "source": [
    "print(\"Model evaluation - Test Set:\")\n",
    "print('r^2:',r2_score(y_test, gbr_test_pred))\n",
    "print('RSE', mean_squared_error(y_test, gbr_test_pred)) \n",
    "print('MAE', mean_absolute_error(y_test, gbr_test_pred)) \n",
    "print('RMSE:',np.sqrt(mean_squared_error(y_test,gbr_test_pred)))"
   ]
  },
  {
   "cell_type": "code",
   "execution_count": 12,
   "metadata": {
    "executionInfo": {
     "elapsed": 14008,
     "status": "ok",
     "timestamp": 1678441218577,
     "user": {
      "displayName": "Sajag Kumar",
      "userId": "10609143685700765474"
     },
     "user_tz": -330
    },
    "id": "9Emk9VRv1y8H"
   },
   "outputs": [],
   "source": [
    "kernel = 'rbf'\n",
    "C = [50]\n",
    "gamma = [50] \n",
    "epsilon = [0.2]\n",
    "\n",
    "params_dict = {\n",
    "    'C': C,\n",
    "    'gamma': gamma, \n",
    "    'epsilon': epsilon\n",
    "}\n",
    "\n",
    "svr = SVR()\n",
    "\n",
    "gsCV = GridSearchCV(\n",
    "    estimator=svr, \n",
    "    param_grid=params_dict, \n",
    "    n_jobs=2,\n",
    "    scoring='r2',\n",
    "    cv=6 \n",
    ")\n",
    "\n",
    "gsCV.fit(x_train, y_train)\n",
    "svr = SVR(C=gsCV.best_params_['C'], kernel=kernel, \n",
    "          gamma=gsCV.best_params_['gamma'],\n",
    "          epsilon=gsCV.best_params_['epsilon'])\n",
    "svr.fit(x_train, y_train)\n",
    "svr_train_pred = svr.predict(x_train)\n",
    "svr_test_pred = svr.predict(x_test)"
   ]
  },
  {
   "cell_type": "code",
   "execution_count": 13,
   "metadata": {
    "colab": {
     "base_uri": "https://localhost:8080/"
    },
    "executionInfo": {
     "elapsed": 417,
     "status": "ok",
     "timestamp": 1678442199612,
     "user": {
      "displayName": "Sajag Kumar",
      "userId": "10609143685700765474"
     },
     "user_tz": -330
    },
    "id": "_L5DRp7F136u",
    "outputId": "ae934c8c-0354-4733-92b3-be8caf2fb922"
   },
   "outputs": [
    {
     "name": "stdout",
     "output_type": "stream",
     "text": [
      "Model evaluation - Test Set:\n",
      "r^2: 0.7379921025275658\n",
      "RSE 0.17357325075575677\n",
      "RAE 0.24362127145230222\n",
      "RMSE: 0.4166212317630449\n"
     ]
    }
   ],
   "source": [
    "print(\"Model evaluation - Test Set:\")\n",
    "print('r^2:',r2_score(y_test, svr_test_pred))\n",
    "print('RSE', mean_squared_error(y_test, svr_test_pred)) \n",
    "print('RAE', mean_absolute_error(y_test, svr_test_pred)) \n",
    "print('RMSE:',np.sqrt(mean_squared_error(y_test,svr_test_pred)))"
   ]
  }
 ],
 "metadata": {
  "colab": {
   "authorship_tag": "ABX9TyMcF1JlsiQGlagEEmngWusy",
   "provenance": []
  },
  "kernelspec": {
   "display_name": "Python 3",
   "language": "python",
   "name": "python3"
  },
  "language_info": {
   "codemirror_mode": {
    "name": "ipython",
    "version": 3
   },
   "file_extension": ".py",
   "mimetype": "text/x-python",
   "name": "python",
   "nbconvert_exporter": "python",
   "pygments_lexer": "ipython3",
   "version": "3.8.8"
  }
 },
 "nbformat": 4,
 "nbformat_minor": 1
}
