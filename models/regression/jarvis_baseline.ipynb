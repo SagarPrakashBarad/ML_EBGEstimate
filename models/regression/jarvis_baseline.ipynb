{
 "cells": [
  {
   "cell_type": "code",
   "execution_count": 1,
   "id": "51a66070",
   "metadata": {},
   "outputs": [],
   "source": [
    "from sklearn.ensemble import RandomForestRegressor\n",
    "import matplotlib.pyplot  as plt\n",
    "from sklearn.model_selection import GridSearchCV\n",
    "from sklearn.svm import SVR\n",
    "from sklearn import ensemble\n",
    "import numpy as np\n",
    "import pandas as pd\n",
    "from sklearn.model_selection import train_test_split\n",
    "from sklearn.metrics import mean_squared_error  \n",
    "from sklearn.metrics import mean_absolute_error \n",
    "from sklearn.metrics import r2_score"
   ]
  },
  {
   "cell_type": "code",
   "execution_count": 5,
   "id": "0ce260bf",
   "metadata": {
    "scrolled": true
   },
   "outputs": [],
   "source": [
    "df=pd.read_csv('../../_data/10_features_jarvis.csv')"
   ]
  },
  {
   "cell_type": "code",
   "execution_count": 6,
   "id": "998b575c",
   "metadata": {},
   "outputs": [],
   "source": [
    "df = df.drop(['gap opt'], axis=1)"
   ]
  },
  {
   "cell_type": "code",
   "execution_count": 7,
   "id": "53497a18",
   "metadata": {},
   "outputs": [],
   "source": [
    "df=df.values\n",
    "df=np.array(df)\n",
    "for i in range(10):\n",
    "    df[:,i]=(df[:,i]-df[:,i].min())/(df[:,i].max()-df[:,i].min())\n",
    "data_train, data_test = train_test_split(df, test_size=0.1, random_state=0)\n",
    "X_train=data_train[:,:10]\n",
    "X_test=data_test[:,:10]\n",
    "y_train=data_train[:,10]\n",
    "y_test=data_test[:,10]"
   ]
  },
  {
   "cell_type": "code",
   "execution_count": 8,
   "id": "938d271e",
   "metadata": {},
   "outputs": [],
   "source": [
    "kernel = 'rbf'\n",
    "C = [50]\n",
    "gamma = [50]\n",
    "epsilon = [0.2]\n",
    "# Parameter dictionary\n",
    "params_dict = {\n",
    "    'C': C,\n",
    "    'gamma': gamma,\n",
    "    'epsilon': epsilon\n",
    "}\n",
    "# Grid parameter search\n",
    "svr = SVR()\n",
    "gsCV = GridSearchCV(\n",
    "    estimator=svr,\n",
    "    param_grid=params_dict,\n",
    "    n_jobs=2,\n",
    "    scoring='r2',\n",
    "    cv=6\n",
    ")"
   ]
  },
  {
   "cell_type": "code",
   "execution_count": 9,
   "id": "f051e733",
   "metadata": {},
   "outputs": [],
   "source": [
    "gsCV.fit(X_train, y_train)\n",
    "svr = SVR(C=gsCV.best_params_['C'], kernel=kernel, gamma=gsCV.best_params_['gamma'],\n",
    "          epsilon=gsCV.best_params_['epsilon'])\n",
    "svr.fit(X_train, y_train)\n",
    "svr_train_pred = svr.predict(X_train)\n",
    "svr_test_pred = svr.predict(X_test)"
   ]
  },
  {
   "cell_type": "code",
   "execution_count": 9,
   "id": "c3ff0240",
   "metadata": {},
   "outputs": [
    {
     "name": "stdout",
     "output_type": "stream",
     "text": [
      "Model evaluation - Test Set:\n",
      "r^2: 0.7425166217977053\n",
      "RSE 0.6572385414259964\n",
      "RAE 0.46783280297825164\n",
      "RMSE: 0.8107024987170055\n"
     ]
    }
   ],
   "source": [
    "print(\"Model evaluation - Test Set:\")\n",
    "print('r^2:',r2_score(y_test, svr_test_pred))\n",
    "print('RSE', mean_squared_error(y_test, svr_test_pred))\n",
    "print('MAE', mean_absolute_error(y_test, svr_test_pred))\n",
    "print('RMSE:',np.sqrt(mean_squared_error(y_test,svr_test_pred)))"
   ]
  },
  {
   "cell_type": "code",
   "execution_count": 10,
   "id": "106e4449",
   "metadata": {},
   "outputs": [],
   "source": [
    "rf=RandomForestRegressor(criterion='mse',bootstrap=False,max_features=0.8,\n",
    "max_depth=20,min_samples_split=5, n_estimators=15000,min_samples_leaf=3,random_state=0)\n",
    "rf.fit(X_train, y_train)\n",
    "rf_train_pred=rf.predict(X_train)\n",
    "rf_test_pred=rf.predict(X_test)"
   ]
  },
  {
   "cell_type": "code",
   "execution_count": 5,
   "id": "fa49772e",
   "metadata": {},
   "outputs": [
    {
     "name": "stdout",
     "output_type": "stream",
     "text": [
      "Model evaluation - Test Set:\n",
      "r^2: 0.8208435663624749\n",
      "RSE 1.6407869222934295\n",
      "RAE 0.88997915535416\n",
      "RMSE: 1.2809320521766288\n"
     ]
    }
   ],
   "source": [
    "print(\"Model evaluation - Test Set:\")\n",
    "print('r^2:',r2_score(y_test, rf_test_pred))\n",
    "print('RSE', mean_squared_error(y_test, rf_test_pred))\n",
    "print('RAE', mean_absolute_error(y_test, rf_test_pred))\n",
    "print('RMSE:',np.sqrt(mean_squared_error(y_test,rf_test_pred)))"
   ]
  },
  {
   "cell_type": "code",
   "execution_count": null,
   "id": "73cf6b96",
   "metadata": {},
   "outputs": [],
   "source": [
    "params = {'n_estimators':21000, 'max_depth': 21, 'min_samples_split': 5,'max_features':0.8,'learning_rate': 0.001, 'loss': 'ls','random_state':0,'subsample': 0.85}\n",
    "gbr = ensemble.GradientBoostingRegressor(**params)\n",
    "gbr.fit(X_train, y_train)\n",
    "gbr_train_pred = gbr.predict(X_train)\n",
    "gbr_test_pred = gbr.predict(X_test)"
   ]
  },
  {
   "cell_type": "code",
   "execution_count": 6,
   "id": "3d5325c7",
   "metadata": {
    "scrolled": true
   },
   "outputs": [
    {
     "name": "stdout",
     "output_type": "stream",
     "text": [
      "Model evaluation - Test Set:\n",
      "r^2: 0.7983866378106572\n",
      "RSE 0.5146276743083911\n",
      "RAE 0.3657991920891279\n",
      "RMSE: 0.7173755462157817\n"
     ]
    }
   ],
   "source": [
    "print(\"Model evaluation - Test Set:\")\n",
    "print('r^2:',r2_score(y_test, gbr_test_pred))\n",
    "print('RSE', mean_squared_error(y_test, gbr_test_pred))\n",
    "print('RAE', mean_absolute_error(y_test, gbr_test_pred))\n",
    "print('RMSE:',np.sqrt(mean_squared_error(y_test,gbr_test_pred)))"
   ]
  }
 ],
 "metadata": {
  "kernelspec": {
   "display_name": "Python 3",
   "language": "python",
   "name": "python3"
  },
  "language_info": {
   "codemirror_mode": {
    "name": "ipython",
    "version": 3
   },
   "file_extension": ".py",
   "mimetype": "text/x-python",
   "name": "python",
   "nbconvert_exporter": "python",
   "pygments_lexer": "ipython3",
   "version": "3.8.8"
  }
 },
 "nbformat": 4,
 "nbformat_minor": 5
}
